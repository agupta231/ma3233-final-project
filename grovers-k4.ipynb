{
 "cells": [
  {
   "cell_type": "markdown",
   "metadata": {},
   "source": [
    "# Running Grover's algorithm on k4"
   ]
  },
  {
   "cell_type": "markdown",
   "metadata": {},
   "source": [
    "## Define the graph\n",
    "The graph being searched is the following:\n",
    "\n",
    "<img src=\"https://upload.wikimedia.org/wikipedia/commons/thumb/5/59/Complete_graph_K4.svg/1024px-Complete_graph_K4.svg.png\" alt=\"K4\" style=\"width: 200px;\"/>\n",
    "\n",
    "The vertices will start at top left and go clockwise lexographically, i.e.\n",
    "\n",
    "```\n",
    "A    B\n",
    "\n",
    "D    C\n",
    "```"
   ]
  },
  {
   "cell_type": "code",
   "execution_count": 1,
   "metadata": {},
   "outputs": [],
   "source": [
    " edges = [('A', 'B'), ('B', 'C'), ('C', 'D'), ('D', 'A'), ('A', 'C'), ('B', 'D')]"
   ]
  },
  {
   "cell_type": "markdown",
   "metadata": {},
   "source": [
    "## Grover Experiments!\n",
    "First, use the autowrapper, then break it down and see what's going on under the hood!"
   ]
  },
  {
   "cell_type": "code",
   "execution_count": 2,
   "metadata": {},
   "outputs": [],
   "source": [
    "from graph_utils import groversearch, evaluators"
   ]
  },
  {
   "cell_type": "markdown",
   "metadata": {},
   "source": [
    "### Running it on k4"
   ]
  },
  {
   "cell_type": "code",
   "execution_count": 3,
   "metadata": {},
   "outputs": [
    {
     "name": "stdout",
     "output_type": "stream",
     "text": [
      "Grover's search on n = 4 vertices:\n",
      "Time elapsed: 0.24355125427246094s\n",
      "\n",
      "      ┌───┐┌────┐┌─┐         \n",
      " q_0: ┤ H ├┤0   ├┤M├─────────\n",
      "      ├───┤│    │└╥┘┌─┐      \n",
      " q_1: ┤ H ├┤1   ├─╫─┤M├──────\n",
      "      ├───┤│    │ ║ └╥┘┌─┐   \n",
      " q_2: ┤ H ├┤2   ├─╫──╫─┤M├───\n",
      "      ├───┤│    │ ║  ║ └╥┘┌─┐\n",
      " q_3: ┤ H ├┤3 Q ├─╫──╫──╫─┤M├\n",
      "      └───┘│    │ ║  ║  ║ └╥┘\n",
      " q_4: ─────┤4   ├─╫──╫──╫──╫─\n",
      "           │    │ ║  ║  ║  ║ \n",
      " q_5: ─────┤5   ├─╫──╫──╫──╫─\n",
      "           │    │ ║  ║  ║  ║ \n",
      " q_6: ─────┤6   ├─╫──╫──╫──╫─\n",
      "           └────┘ ║  ║  ║  ║ \n",
      "c0: 4/════════════╩══╩══╩══╩═\n",
      "                  0  1  2  3 \n"
     ]
    },
    {
     "data": {
      "text/plain": [
       "[('B', 'C'), ('D', 'A'), ('A', 'C'), ('B', 'D')]"
      ]
     },
     "execution_count": 3,
     "metadata": {},
     "output_type": "execute_result"
    }
   ],
   "source": [
    "groversearch.run_grovers(edges, plot=True)"
   ]
  },
  {
   "cell_type": "markdown",
   "metadata": {},
   "source": [
    "### Under the Hood"
   ]
  },
  {
   "cell_type": "markdown",
   "metadata": {},
   "source": [
    "#### Generate the Ground Truth Table"
   ]
  },
  {
   "cell_type": "code",
   "execution_count": 4,
   "metadata": {},
   "outputs": [
    {
     "data": {
      "text/plain": [
       "{(('A', 'B'), ('B', 'C'), ('C', 'D'), ('D', 'A')): True,\n",
       " (('A', 'B'), ('B', 'C'), ('C', 'D'), ('A', 'C')): False,\n",
       " (('A', 'B'), ('B', 'C'), ('C', 'D'), ('B', 'D')): False,\n",
       " (('A', 'B'), ('B', 'C'), ('D', 'A'), ('A', 'C')): False,\n",
       " (('A', 'B'), ('B', 'C'), ('D', 'A'), ('B', 'D')): False,\n",
       " (('A', 'B'), ('B', 'C'), ('A', 'C'), ('B', 'D')): False,\n",
       " (('A', 'B'), ('C', 'D'), ('D', 'A'), ('A', 'C')): False,\n",
       " (('A', 'B'), ('C', 'D'), ('D', 'A'), ('B', 'D')): False,\n",
       " (('A', 'B'), ('C', 'D'), ('A', 'C'), ('B', 'D')): True,\n",
       " (('A', 'B'), ('D', 'A'), ('A', 'C'), ('B', 'D')): False,\n",
       " (('B', 'C'), ('C', 'D'), ('D', 'A'), ('A', 'C')): False,\n",
       " (('B', 'C'), ('C', 'D'), ('D', 'A'), ('B', 'D')): False,\n",
       " (('B', 'C'), ('C', 'D'), ('A', 'C'), ('B', 'D')): False,\n",
       " (('B', 'C'), ('D', 'A'), ('A', 'C'), ('B', 'D')): True,\n",
       " (('C', 'D'), ('D', 'A'), ('A', 'C'), ('B', 'D')): False}"
      ]
     },
     "execution_count": 4,
     "metadata": {},
     "output_type": "execute_result"
    }
   ],
   "source": [
    "evlr = evaluators.HamiltonianEvaluator(edges)\n",
    "truth_table = evlr.generate_truth_table()\n",
    "truth_table"
   ]
  },
  {
   "cell_type": "markdown",
   "metadata": {},
   "source": [
    "And all of the Hamiltonian cycles"
   ]
  },
  {
   "cell_type": "code",
   "execution_count": 5,
   "metadata": {},
   "outputs": [
    {
     "name": "stdout",
     "output_type": "stream",
     "text": [
      "(('A', 'B'), ('B', 'C'), ('C', 'D'), ('D', 'A'))\n",
      "(('A', 'B'), ('C', 'D'), ('A', 'C'), ('B', 'D'))\n",
      "(('B', 'C'), ('D', 'A'), ('A', 'C'), ('B', 'D'))\n"
     ]
    }
   ],
   "source": [
    "for edges, is_hamiltonian in truth_table.items():\n",
    "    if is_hamiltonian:\n",
    "        print(edges)"
   ]
  },
  {
   "cell_type": "markdown",
   "metadata": {},
   "source": [
    "#### Running Grover's"
   ]
  },
  {
   "cell_type": "code",
   "execution_count": 6,
   "metadata": {},
   "outputs": [
    {
     "name": "stdout",
     "output_type": "stream",
     "text": [
      "Grover's search on n = 4 vertices:\n",
      "Time elapsed: 0.11566662788391113s\n",
      "\n"
     ]
    }
   ],
   "source": [
    "truth_map = groversearch.get_truth_map(truth_table)\n",
    "result = groversearch.call_grover(truth_map, len(evlr.vertices))"
   ]
  },
  {
   "cell_type": "markdown",
   "metadata": {},
   "source": [
    "#### Visualization"
   ]
  },
  {
   "cell_type": "code",
   "execution_count": 7,
   "metadata": {},
   "outputs": [],
   "source": [
    "from qiskit.tools.visualization import plot_histogram"
   ]
  },
  {
   "cell_type": "markdown",
   "metadata": {},
   "source": [
    "Plot the probabilities of all of the combinations"
   ]
  },
  {
   "cell_type": "code",
   "execution_count": 8,
   "metadata": {},
   "outputs": [
    {
     "data": {
      "image/png": "[encoded data removed]",
      "text/plain": [
       "<Figure size 504x360 with 1 Axes>"
      ]
     },
     "execution_count": 8,
     "metadata": {},
     "output_type": "execute_result"
    }
   ],
   "source": [
    "plot_histogram(result['measurement'], title='Possible Hamiltonian Cycles')"
   ]
  },
  {
   "cell_type": "markdown",
   "metadata": {},
   "source": [
    "Create a quick helper function to convert enumerations into edge sets"
   ]
  },
  {
   "cell_type": "code",
   "execution_count": 9,
   "metadata": {},
   "outputs": [],
   "source": [
    "combinations_set = list(truth_table.keys())\n",
    "enumeration_to_edges = lambda bin_combo: combinations_set[int(str(bin_combo), 2)]"
   ]
  },
  {
   "cell_type": "markdown",
   "metadata": {},
   "source": [
    "Interactive demo"
   ]
  },
  {
   "cell_type": "code",
   "execution_count": null,
   "metadata": {},
   "outputs": [],
   "source": [
    "combo = input('Input the edge combination')\n",
    "print(enumeration_to_edges(combo))"
   ]
  },
  {
   "cell_type": "code",
   "execution_count": null,
   "metadata": {},
   "outputs": [],
   "source": []
  }
 ],
 "metadata": {
  "kernelspec": {
   "display_name": "Python 3",
   "language": "python",
   "name": "python3"
  },
  "language_info": {
   "codemirror_mode": {
    "name": "ipython",
    "version": 3
   },
   "file_extension": ".py",
   "mimetype": "text/x-python",
   "name": "python",
   "nbconvert_exporter": "python",
   "pygments_lexer": "ipython3",
   "version": "3.8.0"
  }
 },
 "nbformat": 4,
 "nbformat_minor": 4
}
